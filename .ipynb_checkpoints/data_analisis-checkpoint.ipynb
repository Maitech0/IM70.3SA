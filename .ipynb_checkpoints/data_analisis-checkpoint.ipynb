{
 "cells": [
  {
   "cell_type": "code",
   "execution_count": 13,
   "id": "64d81797",
   "metadata": {},
   "outputs": [],
   "source": [
    "\n",
    "import pandas as pd\n",
    "import os\n",
    "import datetime\n",
    "import numpy as np\n",
    "\n",
    "df_list = []\n",
    "res_path = './data'\n",
    "rece_name = []\n",
    "\n",
    "for file in os.listdir(res_path):\n",
    "    if \"IRONMAN70.3\" in file:\n",
    "        df_list.append(pd.read_csv(f\"{res_path}/{file}\", encoding = \"ISO-8859-1\", index_col = 2, na_values=['--:--']))\n",
    "        rece_name.append(file)\n",
    "    \n",
    "for count, race in enumerate(rece_name): \n",
    "    df_list[count][\"race_city\"] = race\n",
    "#Crea cloumna de ciudad a partir del nombre del archivo\n",
    "  \n",
    "i703sa_df = pd.DataFrame()\n",
    "\n",
    "for df in df_list:\n",
    "    i703sa_df = pd.concat([i703sa_df, df])\n",
    "\n",
    "i703sa_df = i703sa_df.rename(columns={\"Name\": \"name\", \"Unnamed: 1\" : \"country\",  \"Div.\": \"div_rank\", \n",
    "                         \"Gen.\": \"gen_rank\", \"Ovr.\": \"overall_rank\", \"Swim\": \"swim\", \n",
    "                         \"Bike\": \"bike\", \"Run\": \"run\", \"Overall\": \"total\",  \"DPI\": \"dpi\"})\n",
    "\n",
    "i703sa_df[\"race_city\"] = i703sa_df[\"race_city\"].str[11:-4] #Limpia ciudad\n",
    "\n",
    "i703sa_df['name'] = i703sa_df['name'].map(lambda x: x.rstrip('\"')) #Limpia nombre + categoria\n",
    "\n",
    "i703sa_df[\"swim\"] = '00:' + i703sa_df[\"swim\"].str[0:5] #Corrige swim\n",
    "\n",
    "i703sa_df['swim'] = pd.to_timedelta(i703sa_df['swim'], errors = 'coerce') \n",
    "# yo se que esto está mal pero no lo supe arreglar\n",
    "i703sa_df[\"bike\"] = pd.to_timedelta(i703sa_df[\"bike\"])\n",
    "i703sa_df['run'] = pd.to_timedelta(i703sa_df[\"run\"])\n",
    "i703sa_df['total'] = pd.to_timedelta(i703sa_df[\"total\"])\n",
    "\n",
    "i703sa_df.isna().any()\n",
    "# swim, bike, run y dpi tiene valores nulos\n",
    "#total no, asi no voy a eliminar registros por Nan\n",
    "\n",
    "i703sa_df = i703sa_df[i703sa_df[\"name\"].str.contains(\"PRO\") == False]\n",
    "  \n",
    "i703sa_df = i703sa_df.assign(division=i703sa_df.name.str[-6:]) # separar division amateurs\n",
    "i703sa_df[\"name\"] = i703sa_df[\"name\"].str[:-6] #borrar del nombre\n",
    "\n",
    "i703sa_df.to_csv('final_data/IRONMAN70.3 SUDAMERICA')\n",
    "\n",
    "#FIN DE LIMPIEZA\n",
    "\n",
    "df = i703sa_df\n",
    "\n"
   ]
  },
  {
   "cell_type": "code",
   "execution_count": 78,
   "id": "1a29584b",
   "metadata": {},
   "outputs": [
    {
     "data": {
      "text/plain": [
       "count                         1358\n",
       "mean     0 days 00:43:55.025036818\n",
       "std      0 days 00:06:59.828600627\n",
       "min                0 days 00:26:03\n",
       "25%                0 days 00:38:29\n",
       "50%                0 days 00:43:31\n",
       "75%         0 days 00:48:57.250000\n",
       "max                0 days 00:59:58\n",
       "Name: swim, dtype: object"
      ]
     },
     "execution_count": 78,
     "metadata": {},
     "output_type": "execute_result"
    },
    {
     "data": {
      "image/png": "[encoded data removed]",
      "text/plain": [
       "<Figure size 432x288 with 1 Axes>"
      ]
     },
     "metadata": {
      "needs_background": "light"
     },
     "output_type": "display_data"
    }
   ],
   "source": [
    "#Analisis de datos Mujeres\n",
    "df_F = df[df['division'].str.contains(\"F\")]\n",
    "\n",
    "#Analisis de datos natación Mujeres\n",
    "\n",
    "F_dt = df_F.describe()\n",
    "\n",
    "df_F['swim'].astype('timedelta64[s]').plot.hist(bins=100)\n",
    "\n",
    "lower_limit = df_F.swim.mean() - 3*df_F.swim.std()\n",
    "upper_limit = df_F.swim.mean() + 3*df_F.swim.std()\n",
    "\n",
    "df_F[df_F.swim > upper_limit]#no hay valores por encima del limit superior\n",
    "df_F[df_F.swim < lower_limit]# no hay valores por debajo del limite inferior\n",
    "\n",
    "df_F.swim.describe()"
   ]
  },
  {
   "cell_type": "code",
   "execution_count": 18,
   "id": "83f538c3",
   "metadata": {},
   "outputs": [
    {
     "data": {
      "text/plain": [
       "count                         1415\n",
       "mean     0 days 03:08:07.008480565\n",
       "std      0 days 00:19:38.204957609\n",
       "min                0 days 02:22:45\n",
       "25%         0 days 02:54:14.500000\n",
       "50%                0 days 03:05:28\n",
       "75%                0 days 03:19:43\n",
       "max                0 days 04:30:38\n",
       "Name: bike, dtype: object"
      ]
     },
     "execution_count": 18,
     "metadata": {},
     "output_type": "execute_result"
    },
    {
     "data": {
      "image/png": "[encoded data removed]",
      "text/plain": [
       "<Figure size 432x288 with 1 Axes>"
      ]
     },
     "metadata": {
      "needs_background": "light"
     },
     "output_type": "display_data"
    }
   ],
   "source": [
    "#Analisis de datos ciclismo Mujeres\n",
    "\n",
    "df_F['bike'].astype('timedelta64[s]').plot.hist(bins=100)\n",
    "\n",
    "lower_limit = df_F.bike.mean() - 3*df_F.bike.std()\n",
    "upper_limit = df_F.bike.mean() + 3*df_F.bike.std()\n",
    "\n",
    "df_F[df_F.bike > upper_limit]#no se descartan valores por encima porque son posibles\n",
    "df_F[df_F.bike < lower_limit]# no hay valores por debajo del limite inferior\n",
    "\n",
    "df_F.bike.describe()"
   ]
  },
  {
   "cell_type": "code",
   "execution_count": 77,
   "id": "dad25456",
   "metadata": {},
   "outputs": [
    {
     "data": {
      "text/plain": [
       "count                         1415\n",
       "mean     0 days 02:10:31.570318021\n",
       "std      0 days 00:21:19.472157550\n",
       "min                0 days 01:26:24\n",
       "25%         0 days 01:54:48.500000\n",
       "50%                0 days 02:07:44\n",
       "75%                0 days 02:23:44\n",
       "max                0 days 03:39:51\n",
       "Name: run, dtype: object"
      ]
     },
     "execution_count": 77,
     "metadata": {},
     "output_type": "execute_result"
    },
    {
     "data": {
      "image/png": "[encoded data removed]",
      "text/plain": [
       "<Figure size 432x288 with 1 Axes>"
      ]
     },
     "metadata": {
      "needs_background": "light"
     },
     "output_type": "display_data"
    }
   ],
   "source": [
    "#Analisis de datos carrera a pie Mujeres\n",
    "df_F['run'].astype('timedelta64[s]').plot.hist(bins=100)\n",
    "\n",
    "lower_limit = df_F.run.mean() - 3*df_F.run.std()\n",
    "upper_limit = df_F.run.mean() + 3*df_F.run.std()\n",
    "\n",
    "df_F[df_F.run > upper_limit]#no se descartan valores por encima porque son posibles\n",
    "df_F[df_F.run < lower_limit]# no hay valores por debajo del limite inferior\n",
    "\n",
    "df_F.run.describe()"
   ]
  },
  {
   "cell_type": "code",
   "execution_count": 32,
   "id": "9c4d3f3d",
   "metadata": {},
   "outputs": [
    {
     "data": {
      "text/html": [
       "<div>\n",
       "<style scoped>\n",
       "    .dataframe tbody tr th:only-of-type {\n",
       "        vertical-align: middle;\n",
       "    }\n",
       "\n",
       "    .dataframe tbody tr th {\n",
       "        vertical-align: top;\n",
       "    }\n",
       "\n",
       "    .dataframe thead th {\n",
       "        text-align: right;\n",
       "    }\n",
       "</style>\n",
       "<table border=\"1\" class=\"dataframe\">\n",
       "  <thead>\n",
       "    <tr style=\"text-align: right;\">\n",
       "      <th></th>\n",
       "      <th>swim</th>\n",
       "      <th>bike</th>\n",
       "      <th>run</th>\n",
       "      <th>total</th>\n",
       "    </tr>\n",
       "  </thead>\n",
       "  <tbody>\n",
       "    <tr>\n",
       "      <th>count</th>\n",
       "      <td>1358</td>\n",
       "      <td>1415</td>\n",
       "      <td>1415</td>\n",
       "      <td>1422</td>\n",
       "    </tr>\n",
       "    <tr>\n",
       "      <th>mean</th>\n",
       "      <td>0 days 00:43:55.025036818</td>\n",
       "      <td>0 days 03:08:07.008480565</td>\n",
       "      <td>0 days 02:10:31.570318021</td>\n",
       "      <td>0 days 06:11:36.623769338</td>\n",
       "    </tr>\n",
       "    <tr>\n",
       "      <th>std</th>\n",
       "      <td>0 days 00:06:59.828600627</td>\n",
       "      <td>0 days 00:19:38.204957609</td>\n",
       "      <td>0 days 00:21:19.472157550</td>\n",
       "      <td>0 days 00:43:57.188343159</td>\n",
       "    </tr>\n",
       "    <tr>\n",
       "      <th>min</th>\n",
       "      <td>0 days 00:26:03</td>\n",
       "      <td>0 days 02:22:45</td>\n",
       "      <td>0 days 01:26:24</td>\n",
       "      <td>0 days 04:34:21</td>\n",
       "    </tr>\n",
       "    <tr>\n",
       "      <th>25%</th>\n",
       "      <td>0 days 00:38:29</td>\n",
       "      <td>0 days 02:54:14.500000</td>\n",
       "      <td>0 days 01:54:48.500000</td>\n",
       "      <td>0 days 05:39:13</td>\n",
       "    </tr>\n",
       "    <tr>\n",
       "      <th>50%</th>\n",
       "      <td>0 days 00:43:31</td>\n",
       "      <td>0 days 03:05:28</td>\n",
       "      <td>0 days 02:07:44</td>\n",
       "      <td>0 days 06:07:53</td>\n",
       "    </tr>\n",
       "    <tr>\n",
       "      <th>75%</th>\n",
       "      <td>0 days 00:48:57.250000</td>\n",
       "      <td>0 days 03:19:43</td>\n",
       "      <td>0 days 02:23:44</td>\n",
       "      <td>0 days 06:40:10.250000</td>\n",
       "    </tr>\n",
       "    <tr>\n",
       "      <th>max</th>\n",
       "      <td>0 days 00:59:58</td>\n",
       "      <td>0 days 04:30:38</td>\n",
       "      <td>0 days 03:39:51</td>\n",
       "      <td>0 days 08:58:08</td>\n",
       "    </tr>\n",
       "  </tbody>\n",
       "</table>\n",
       "</div>"
      ],
      "text/plain": [
       "                            swim                       bike  \\\n",
       "count                       1358                       1415   \n",
       "mean   0 days 00:43:55.025036818  0 days 03:08:07.008480565   \n",
       "std    0 days 00:06:59.828600627  0 days 00:19:38.204957609   \n",
       "min              0 days 00:26:03            0 days 02:22:45   \n",
       "25%              0 days 00:38:29     0 days 02:54:14.500000   \n",
       "50%              0 days 00:43:31            0 days 03:05:28   \n",
       "75%       0 days 00:48:57.250000            0 days 03:19:43   \n",
       "max              0 days 00:59:58            0 days 04:30:38   \n",
       "\n",
       "                             run                      total  \n",
       "count                       1415                       1422  \n",
       "mean   0 days 02:10:31.570318021  0 days 06:11:36.623769338  \n",
       "std    0 days 00:21:19.472157550  0 days 00:43:57.188343159  \n",
       "min              0 days 01:26:24            0 days 04:34:21  \n",
       "25%       0 days 01:54:48.500000            0 days 05:39:13  \n",
       "50%              0 days 02:07:44            0 days 06:07:53  \n",
       "75%              0 days 02:23:44     0 days 06:40:10.250000  \n",
       "max              0 days 03:39:51            0 days 08:58:08  "
      ]
     },
     "execution_count": 32,
     "metadata": {},
     "output_type": "execute_result"
    },
    {
     "data": {
      "image/png": "[encoded data removed]",
      "text/plain": [
       "<Figure size 432x288 with 1 Axes>"
      ]
     },
     "metadata": {
      "needs_background": "light"
     },
     "output_type": "display_data"
    }
   ],
   "source": [
    "#Analisis de datos totales Mujeres\n",
    "df_F['total'].astype('timedelta64[s]').plot.hist(bins=100)\n",
    "\n",
    "lower_limit = df_F.total.mean() - 3*df_F.run.std()\n",
    "upper_limit = df_F.total.mean() + 3*df_F.run.std()\n",
    "\n",
    "df_F[df_F.total > upper_limit]#no se descartan valores por encima porque son posibles\n",
    "df_F[df_F.total < lower_limit]# no se descartan por debajo del limite inferior, son posibles\n",
    "\n",
    "df_f_t = df_F.filter(items=['swim', 'bike', \"run\", \"total\"])\n",
    "df_f_t.describe()\n",
    "\n",
    "#########################\n",
    "#Fin de Analisis Mujeres\n",
    "#########################"
   ]
  },
  {
   "cell_type": "code",
   "execution_count": 76,
   "id": "a018f8f6",
   "metadata": {},
   "outputs": [
    {
     "name": "stderr",
     "output_type": "stream",
     "text": [
      "/var/folders/bk/x55tr7795d12bw0rwtpbzcnr0000gn/T/ipykernel_48239/653481037.py:17: SettingWithCopyWarning: \n",
      "A value is trying to be set on a copy of a slice from a DataFrame.\n",
      "Try using .loc[row_indexer,col_indexer] = value instead\n",
      "\n",
      "See the caveats in the documentation: https://pandas.pydata.org/pandas-docs/stable/user_guide/indexing.html#returning-a-view-versus-a-copy\n",
      "  df_M.swim = df_M.swim.where(lambda x: x > limit_swim, np.nan)\n"
     ]
    },
    {
     "data": {
      "text/plain": [
       "count                         5946\n",
       "mean     0 days 00:40:12.697443659\n",
       "std      0 days 00:06:57.295976286\n",
       "min                0 days 00:21:51\n",
       "25%                0 days 00:35:00\n",
       "50%                0 days 00:39:32\n",
       "75%                0 days 00:44:41\n",
       "max                0 days 00:59:56\n",
       "Name: swim, dtype: object"
      ]
     },
     "execution_count": 76,
     "metadata": {},
     "output_type": "execute_result"
    },
    {
     "data": {
      "image/png": "[encoded data removed]",
      "text/plain": [
       "<Figure size 432x288 with 1 Axes>"
      ]
     },
     "metadata": {
      "needs_background": "light"
     },
     "output_type": "display_data"
    }
   ],
   "source": [
    "#Analisis de datos de Hombres\n",
    "df_M = df[df['division'].str.contains(\"M\")]\n",
    "\n",
    "#Analisis de datos natación hombres\n",
    "\n",
    "M_dt = df_M.describe()\n",
    "\n",
    "#df_M['swim'].astype('timedelta64[s]').plot.hist(bins=100)\n",
    "\n",
    "lower_limit = df_M.swim.mean() - 3*df_M.swim.std()\n",
    "upper_limit = df_M.swim.mean() + 3*df_M.swim.std()\n",
    "\n",
    "df_M[df_M.swim > upper_limit]#no hay valores por encima del limit superior\n",
    "df_M[df_M.swim < lower_limit]\n",
    "\n",
    "limit_swim = pd.to_timedelta(\"0 days 00:21:00\")#record de natacion ironman70.3\n",
    "df_M.swim = df_M.swim.where(lambda x: x > limit_swim, np.nan) \n",
    "#esto reemplaza los valores menores a limit_swim por nan, pero a pandas no le gusta \n",
    "#Yo no termino de entender que está haciendo tampoco\n",
    "\n",
    "df_M['swim'].astype('timedelta64[s]').plot.hist(bins=100)\n",
    "\n",
    "df_M.swim.describe()"
   ]
  },
  {
   "cell_type": "code",
   "execution_count": 89,
   "id": "8acd2fdb",
   "metadata": {},
   "outputs": [
    {
     "name": "stderr",
     "output_type": "stream",
     "text": [
      "/var/folders/bk/x55tr7795d12bw0rwtpbzcnr0000gn/T/ipykernel_48239/4208762420.py:10: SettingWithCopyWarning: \n",
      "A value is trying to be set on a copy of a slice from a DataFrame.\n",
      "Try using .loc[row_indexer,col_indexer] = value instead\n",
      "\n",
      "See the caveats in the documentation: https://pandas.pydata.org/pandas-docs/stable/user_guide/indexing.html#returning-a-view-versus-a-copy\n",
      "  df_M.bike = df_M.bike.where(lambda x: x > limit_bike, np.nan)\n"
     ]
    },
    {
     "data": {
      "text/plain": [
       "count                         6074\n",
       "mean     0 days 02:51:18.283997365\n",
       "std      0 days 00:19:27.262477313\n",
       "min                0 days 02:10:27\n",
       "25%                0 days 02:37:28\n",
       "50%         0 days 02:48:30.500000\n",
       "75%         0 days 03:02:05.750000\n",
       "max                0 days 04:25:26\n",
       "Name: bike, dtype: object"
      ]
     },
     "execution_count": 89,
     "metadata": {},
     "output_type": "execute_result"
    },
    {
     "data": {
      "image/png": "[encoded data removed]",
      "text/plain": [
       "<Figure size 432x288 with 1 Axes>"
      ]
     },
     "metadata": {
      "needs_background": "light"
     },
     "output_type": "display_data"
    }
   ],
   "source": [
    "#df_M['bike'].astype('timedelta64[s]').plot.hist(bins=100)\n",
    "\n",
    "lower_limit = df_M.bike.mean() - 3*df_M.bike.std()\n",
    "upper_limit = df_M.bike.mean() + 3*df_M.bike.std()\n",
    "\n",
    "df_M[df_M.bike > upper_limit]#no se descartan valores por encima porque son posibles\n",
    "df_M[df_M.bike < lower_limit]#se descarta valor por debajo\n",
    "\n",
    "limit_bike = pd.to_timedelta(\"0 days 01:56:00\")#record de ciclismo en ironman70.3\n",
    "df_M.bike = df_M.bike.where(lambda x: x > limit_bike, np.nan)\n",
    "\n",
    "df_M['bike'].astype('timedelta64[s]').plot.hist(bins=100)\n",
    "df_M.bike.describe()"
   ]
  },
  {
   "cell_type": "code",
   "execution_count": 92,
   "id": "eb46c639",
   "metadata": {},
   "outputs": [
    {
     "name": "stderr",
     "output_type": "stream",
     "text": [
      "/var/folders/bk/x55tr7795d12bw0rwtpbzcnr0000gn/T/ipykernel_48239/3586660019.py:8: SettingWithCopyWarning: \n",
      "A value is trying to be set on a copy of a slice from a DataFrame.\n",
      "Try using .loc[row_indexer,col_indexer] = value instead\n",
      "\n",
      "See the caveats in the documentation: https://pandas.pydata.org/pandas-docs/stable/user_guide/indexing.html#returning-a-view-versus-a-copy\n",
      "  df_M.run = df_M.run.where(lambda x: x < limit_run, np.nan)#se descarta dato duración mayor a un día\n"
     ]
    },
    {
     "data": {
      "text/plain": [
       "count                         6076\n",
       "mean     0 days 02:02:07.834430546\n",
       "std      0 days 00:23:16.529855666\n",
       "min                0 days 01:06:24\n",
       "25%         0 days 01:45:06.750000\n",
       "50%                0 days 01:58:31\n",
       "75%         0 days 02:15:12.250000\n",
       "max                0 days 03:50:10\n",
       "Name: run, dtype: object"
      ]
     },
     "execution_count": 92,
     "metadata": {},
     "output_type": "execute_result"
    },
    {
     "data": {
      "image/png": "[encoded data removed]",
      "text/plain": [
       "<Figure size 432x288 with 1 Axes>"
      ]
     },
     "metadata": {
      "needs_background": "light"
     },
     "output_type": "display_data"
    }
   ],
   "source": [
    "df_M['run'].astype('timedelta64[s]').plot.hist(bins=100)\n",
    "\n",
    "lower_limit = df_M.run.mean() - 3*df_M.run.std()\n",
    "upper_limit = df_M.run.mean() + 3*df_M.run.std()\n",
    "\n",
    "df_M[df_M.run > upper_limit]#no se descartan valores por encima porque son posibles\n",
    "limit_run = pd.to_timedelta(\"1 days 00:00:00\")\n",
    "df_M.run = df_M.run.where(lambda x: x < limit_run, np.nan)#se descarta dato duración mayor a un día\n",
    "df_M[df_M.run < lower_limit]# no hay valores por debajo del limite inferior\n",
    "\n",
    "df_M.run.describe()"
   ]
  },
  {
   "cell_type": "code",
   "execution_count": 95,
   "id": "3a6b0f1d",
   "metadata": {},
   "outputs": [
    {
     "data": {
      "text/html": [
       "<div>\n",
       "<style scoped>\n",
       "    .dataframe tbody tr th:only-of-type {\n",
       "        vertical-align: middle;\n",
       "    }\n",
       "\n",
       "    .dataframe tbody tr th {\n",
       "        vertical-align: top;\n",
       "    }\n",
       "\n",
       "    .dataframe thead th {\n",
       "        text-align: right;\n",
       "    }\n",
       "</style>\n",
       "<table border=\"1\" class=\"dataframe\">\n",
       "  <thead>\n",
       "    <tr style=\"text-align: right;\">\n",
       "      <th></th>\n",
       "      <th>swim</th>\n",
       "      <th>bike</th>\n",
       "      <th>run</th>\n",
       "      <th>total</th>\n",
       "    </tr>\n",
       "  </thead>\n",
       "  <tbody>\n",
       "    <tr>\n",
       "      <th>count</th>\n",
       "      <td>5946</td>\n",
       "      <td>6074</td>\n",
       "      <td>6076</td>\n",
       "      <td>6110</td>\n",
       "    </tr>\n",
       "    <tr>\n",
       "      <th>mean</th>\n",
       "      <td>0 days 00:40:12.697443659</td>\n",
       "      <td>0 days 02:51:18.283997365</td>\n",
       "      <td>0 days 02:02:07.834430546</td>\n",
       "      <td>0 days 05:42:02.385433715</td>\n",
       "    </tr>\n",
       "    <tr>\n",
       "      <th>std</th>\n",
       "      <td>0 days 00:06:57.295976286</td>\n",
       "      <td>0 days 00:19:27.262477313</td>\n",
       "      <td>0 days 00:23:16.529855666</td>\n",
       "      <td>0 days 00:45:50.344396336</td>\n",
       "    </tr>\n",
       "    <tr>\n",
       "      <th>min</th>\n",
       "      <td>0 days 00:21:51</td>\n",
       "      <td>0 days 02:10:27</td>\n",
       "      <td>0 days 01:06:24</td>\n",
       "      <td>0 days 04:01:18</td>\n",
       "    </tr>\n",
       "    <tr>\n",
       "      <th>25%</th>\n",
       "      <td>0 days 00:35:00</td>\n",
       "      <td>0 days 02:37:28</td>\n",
       "      <td>0 days 01:45:06.750000</td>\n",
       "      <td>0 days 05:08:43</td>\n",
       "    </tr>\n",
       "    <tr>\n",
       "      <th>50%</th>\n",
       "      <td>0 days 00:39:32</td>\n",
       "      <td>0 days 02:48:30.500000</td>\n",
       "      <td>0 days 01:58:31</td>\n",
       "      <td>0 days 05:37:18.500000</td>\n",
       "    </tr>\n",
       "    <tr>\n",
       "      <th>75%</th>\n",
       "      <td>0 days 00:44:41</td>\n",
       "      <td>0 days 03:02:05.750000</td>\n",
       "      <td>0 days 02:15:12.250000</td>\n",
       "      <td>0 days 06:09:43.750000</td>\n",
       "    </tr>\n",
       "    <tr>\n",
       "      <th>max</th>\n",
       "      <td>0 days 00:59:56</td>\n",
       "      <td>0 days 04:25:26</td>\n",
       "      <td>0 days 03:50:10</td>\n",
       "      <td>0 days 08:51:08</td>\n",
       "    </tr>\n",
       "  </tbody>\n",
       "</table>\n",
       "</div>"
      ],
      "text/plain": [
       "                            swim                       bike  \\\n",
       "count                       5946                       6074   \n",
       "mean   0 days 00:40:12.697443659  0 days 02:51:18.283997365   \n",
       "std    0 days 00:06:57.295976286  0 days 00:19:27.262477313   \n",
       "min              0 days 00:21:51            0 days 02:10:27   \n",
       "25%              0 days 00:35:00            0 days 02:37:28   \n",
       "50%              0 days 00:39:32     0 days 02:48:30.500000   \n",
       "75%              0 days 00:44:41     0 days 03:02:05.750000   \n",
       "max              0 days 00:59:56            0 days 04:25:26   \n",
       "\n",
       "                             run                      total  \n",
       "count                       6076                       6110  \n",
       "mean   0 days 02:02:07.834430546  0 days 05:42:02.385433715  \n",
       "std    0 days 00:23:16.529855666  0 days 00:45:50.344396336  \n",
       "min              0 days 01:06:24            0 days 04:01:18  \n",
       "25%       0 days 01:45:06.750000            0 days 05:08:43  \n",
       "50%              0 days 01:58:31     0 days 05:37:18.500000  \n",
       "75%       0 days 02:15:12.250000     0 days 06:09:43.750000  \n",
       "max              0 days 03:50:10            0 days 08:51:08  "
      ]
     },
     "execution_count": 95,
     "metadata": {},
     "output_type": "execute_result"
    },
    {
     "data": {
      "image/png": "[encoded data removed]",
      "text/plain": [
       "<Figure size 432x288 with 1 Axes>"
      ]
     },
     "metadata": {
      "needs_background": "light"
     },
     "output_type": "display_data"
    }
   ],
   "source": [
    "df_M['total'].astype('timedelta64[s]').plot.hist(bins=100)\n",
    "\n",
    "lower_limit = df_M.total.mean() - 3*df_M.run.std()\n",
    "upper_limit = df_M.total.mean() + 3*df_M.run.std()\n",
    "\n",
    "df_M[df_M.total > upper_limit]#no se descartan valores por encima porque son posibles\n",
    "df_M[df_M.total < lower_limit]# no se descartan por debajo del limite inferior, son posibles\n",
    "\n",
    "df_m_t = df_M.filter(items=['swim', 'bike', \"run\", \"total\"])\n",
    "df_m_t.describe()\n"
   ]
  },
  {
   "cell_type": "code",
   "execution_count": null,
   "id": "b00af8bd",
   "metadata": {},
   "outputs": [],
   "source": []
  },
  {
   "cell_type": "code",
   "execution_count": null,
   "id": "908ea77e",
   "metadata": {},
   "outputs": [],
   "source": []
  }
 ],
 "metadata": {
  "kernelspec": {
   "display_name": "Python 3 (ipykernel)",
   "language": "python",
   "name": "python3"
  },
  "language_info": {
   "codemirror_mode": {
    "name": "ipython",
    "version": 3
   },
   "file_extension": ".py",
   "mimetype": "text/x-python",
   "name": "python",
   "nbconvert_exporter": "python",
   "pygments_lexer": "ipython3",
   "version": "3.9.7"
  }
 },
 "nbformat": 4,
 "nbformat_minor": 5
}
